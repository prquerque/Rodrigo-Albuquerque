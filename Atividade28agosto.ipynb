{
  "nbformat": 4,
  "nbformat_minor": 0,
  "metadata": {
    "colab": {
      "provenance": [],
      "authorship_tag": "ABX9TyOrLBRZXiilPuDjAT5hqDi1",
      "include_colab_link": true
    },
    "kernelspec": {
      "name": "python3",
      "display_name": "Python 3"
    },
    "language_info": {
      "name": "python"
    }
  },
  "cells": [
    {
      "cell_type": "markdown",
      "metadata": {
        "id": "view-in-github",
        "colab_type": "text"
      },
      "source": [
        "<a href=\"https://colab.research.google.com/github/prquerque/Rodrigo-Albuquerque/blob/main/Atividade28agosto.ipynb\" target=\"_parent\"><img src=\"https://colab.research.google.com/assets/colab-badge.svg\" alt=\"Open In Colab\"/></a>"
      ]
    },
    {
      "cell_type": "code",
      "source": [
        "# questão 01\n",
        "\n",
        "\n",
        "lista = [1, 3, 4, 5, 6]\n",
        "\n",
        "if 2 not in lista:\n",
        "    print(\"O valor 2 não está presente na lista.\")\n",
        "else:\n",
        "    print(\"O valor 2 está presente na lista.\")"
      ],
      "metadata": {
        "colab": {
          "base_uri": "https://localhost:8080/"
        },
        "id": "SZcORO-paN4r",
        "outputId": "4681bbcc-78b4-41d7-dd93-690059ac3fa5"
      },
      "execution_count": null,
      "outputs": [
        {
          "output_type": "stream",
          "name": "stdout",
          "text": [
            "O valor 2 não está presente na lista.\n"
          ]
        }
      ]
    },
    {
      "cell_type": "code",
      "source": [
        "# questão 02\n",
        "\n",
        "lista = [1, 3, 4, 5, 6]\n",
        "dicionario = {numero: numero * 2 for numero in lista}\n",
        "print(dicionario)"
      ],
      "metadata": {
        "id": "yz3IcbkRFTwO",
        "colab": {
          "base_uri": "https://localhost:8080/"
        },
        "outputId": "07133b34-3412-42f4-e495-df806ffce2ee"
      },
      "execution_count": null,
      "outputs": [
        {
          "output_type": "stream",
          "name": "stdout",
          "text": [
            "{1: 2, 3: 6, 4: 8, 5: 10, 6: 12}\n"
          ]
        }
      ]
    },
    {
      "cell_type": "code",
      "source": [
        "# questão 03\n",
        "\n",
        "# letra b\n",
        "def formatar_ip(ip):\n",
        "    resultado = \"\"\n",
        "    for caractere in ip:\n",
        "        if caractere == '.':\n",
        "            resultado += '[.]'\n",
        "        else:\n",
        "            resultado += caractere\n",
        "    return resultado\n",
        "\n",
        "# Teste\n",
        "endereco = \"1.1.1.1\"\n",
        "print(formatar_ip(endereco))\n",
        "\n",
        "# letra d\n",
        "def formatar_ip_replace(ip):\n",
        "    return ip.replace('.', '[.]')\n",
        "\n",
        "# Teste\n",
        "endereco = \"1.1.1.1\"\n",
        "print(formatar_ip_replace(endereco))  # Saída: 1[.]1[.]1[.]1"
      ],
      "metadata": {
        "id": "Q5oqEmXfFUMW",
        "colab": {
          "base_uri": "https://localhost:8080/"
        },
        "outputId": "4673dc63-f869-4e16-c331-77ea690b93f1"
      },
      "execution_count": null,
      "outputs": [
        {
          "output_type": "stream",
          "name": "stdout",
          "text": [
            "1[.]1[.]1[.]1\n",
            "1[.]1[.]1[.]1\n"
          ]
        }
      ]
    },
    {
      "cell_type": "code",
      "source": [
        "# questão 04\n",
        "\n",
        "def contar_digitos_pares(numeros):\n",
        "    contador_pares = 0\n",
        "    for numero in numeros:\n",
        "        num_str = str(numero)\n",
        "        if len(num_str) % 2 == 0:\n",
        "            contador_pares += 1\n",
        "    return contador_pares\n",
        "\n",
        "# Teste com a entrada fornecida\n",
        "numeros = [12, 342, 345, 2, 8, 7896]\n",
        "resultado = contar_digitos_pares(numeros)\n",
        "print(resultado)  # Saída esperada: 3"
      ],
      "metadata": {
        "id": "P5XD8skwFa1a",
        "outputId": "bfe772d2-96ae-4d40-acb7-e151587a81dc",
        "colab": {
          "base_uri": "https://localhost:8080/"
        }
      },
      "execution_count": null,
      "outputs": [
        {
          "output_type": "stream",
          "name": "stdout",
          "text": [
            "2\n"
          ]
        }
      ]
    },
    {
      "cell_type": "code",
      "source": [
        "# questão 05\n",
        "{1: 2, 2: 2, 3: 1, 4: 1, 10: 1}\n",
        "\n",
        "meu_array = [1, 2, 3, 2, 1, 4, 10]\n",
        "\n",
        "# Criar dicionário com as contagens\n",
        "contagens = {}\n",
        "for elemento in meu_array:\n",
        "    if elemento in contagens:\n",
        "        contagens[elemento] += 1\n",
        "    else:\n",
        "        contagens[elemento] = 1\n",
        "\n",
        "# Função para somar elementos únicos\n",
        "def soma_unicos(contagens):\n",
        "    soma = 0\n",
        "    for elemento, count in contagens.items():\n",
        "        if count == 1:\n",
        "            soma += elemento\n",
        "    return soma\n",
        "\n",
        "# Calcular e imprimir a soma\n",
        "resultado = soma_unicos(contagens)\n",
        "print(f\"Dicionário de contagens: {contagens}\")\n",
        "print(f\"Soma dos elementos únicos: {resultado}\")"
      ],
      "metadata": {
        "id": "HMTW1kZpFbI2",
        "colab": {
          "base_uri": "https://localhost:8080/"
        },
        "outputId": "32f7d256-d6d3-4eef-d2a7-1dc1c523d93d"
      },
      "execution_count": null,
      "outputs": [
        {
          "output_type": "stream",
          "name": "stdout",
          "text": [
            "Dicionário de contagens: {1: 2, 2: 2, 3: 1, 4: 1, 10: 1}\n",
            "Soma dos elementos únicos: 17\n"
          ]
        }
      ]
    },
    {
      "cell_type": "code",
      "source": [
        "# questão 06\n",
        "array = [1, 2, 2, 1, 3, 3, 4, 5, 5, 6, 6]\n",
        "\n",
        "def encontrar_unico(arr):\n",
        "    contagens = {}\n",
        "    for elemento in arr:\n",
        "        if elemento in contagens:\n",
        "            contagens[elemento] += 1\n",
        "        else:\n",
        "            contagens[elemento] = 1\n",
        "\n",
        "    for elemento, count in contagens.items():\n",
        "        if count == 1:\n",
        "            return elemento\n",
        "\n",
        "resultado = encontrar_unico(array)\n",
        "print(f\"O elemento único é: {resultado}\")"
      ],
      "metadata": {
        "id": "my2Y_puNFbWj",
        "colab": {
          "base_uri": "https://localhost:8080/"
        },
        "outputId": "0dbb5252-4d69-4a62-c450-e588581bd47f"
      },
      "execution_count": null,
      "outputs": [
        {
          "output_type": "stream",
          "name": "stdout",
          "text": [
            "O elemento único é: 4\n"
          ]
        }
      ]
    },
    {
      "cell_type": "code",
      "source": [
        "# questão 07\n",
        "# letra a\n",
        "def menor_numero(lista):\n",
        "    return min(lista)\n",
        "\n",
        "# Teste\n",
        "print(menor_numero(lista))  # Saída: 1\n",
        "\n",
        "# letra b\n",
        "def maior_numero(lista):\n",
        "    return max(lista)\n",
        "\n",
        "# Teste\n",
        "print(maior_numero(lista))  # Saída: 124\n",
        "\n",
        "# letra c\n",
        "def soma_min_max_sort(lista):\n",
        "    lista_ordenada = lista.copy()  # Cria uma cópia para não alterar a lista original\n",
        "    lista_ordenada.sort()\n",
        "    return lista_ordenada[0] + lista_ordenada[-1]\n",
        "\n",
        "# Teste\n",
        "print(soma_min_max_sort(lista))  # Saída: 125 (1 + 124)\n",
        "\n",
        "# letra d\n",
        "def soma_total(lista):\n",
        "    return sum(lista)\n",
        "\n",
        "# Teste\n",
        "print(soma_total(lista))  # Saída: 400 (1+5+33+8+77+43+124+6+8+99)\n",
        "\n",
        "# letra e\n",
        "def media_valores(lista):\n",
        "    return sum(lista) / len(lista)\n",
        "\n",
        "# Teste\n",
        "print(media_valores(lista))  # Saída: 40.0 (400/10)"
      ],
      "metadata": {
        "id": "dFjytju7Fbjv",
        "colab": {
          "base_uri": "https://localhost:8080/"
        },
        "outputId": "c00a0d4e-db3a-4c31-ef4c-515e7adaed50"
      },
      "execution_count": null,
      "outputs": [
        {
          "output_type": "stream",
          "name": "stdout",
          "text": [
            "1\n",
            "6\n",
            "7\n",
            "19\n",
            "3.8\n"
          ]
        }
      ]
    },
    {
      "cell_type": "code",
      "source": [
        "# questão 08\n",
        "# Criando lista e realizando operações\n",
        "minha_lista = []\n",
        "minha_lista.append(10)\n",
        "minha_lista.append(20)\n",
        "minha_lista.append(30)\n",
        "print(\"Lista após adições:\", minha_lista)\n",
        "\n",
        "minha_lista.remove(20)\n",
        "minha_lista.remove(10)\n",
        "print(\"Lista após remoções:\", minha_lista)\n",
        "\n",
        "# Demonstração dos métodos\n",
        "lista_exemplo = [3, 1, 4, 1, 5, 9]\n",
        "\n",
        "# append()\n",
        "lista_exemplo.append(2)\n",
        "print(\"Após append(2):\", lista_exemplo)\n",
        "\n",
        "# pop()\n",
        "elemento_removido = lista_exemplo.pop(0)\n",
        "print(\"Após pop(0):\", lista_exemplo)\n",
        "print(\"Elemento removido:\", elemento_removido)\n",
        "\n",
        "# insert()\n",
        "lista_exemplo.insert(2, 7)\n",
        "print(\"Após insert(2, 7):\", lista_exemplo)\n",
        "\n",
        "# sort()\n",
        "lista_exemplo.sort()\n",
        "print(\"Após sort():\", lista_exemplo)\n",
        "\n",
        "# count()\n",
        "contagem = lista_exemplo.count(1)\n",
        "print(\"Count de 1:\", contagem)\n",
        "\n",
        "# sum()\n",
        "soma = sum(lista_exemplo)\n",
        "print(\"Soma dos elementos:\", soma)"
      ],
      "metadata": {
        "id": "wNyC76HyFcPj",
        "colab": {
          "base_uri": "https://localhost:8080/"
        },
        "outputId": "98e2f1a1-428d-4a4a-c12e-2963eb2f01c5"
      },
      "execution_count": null,
      "outputs": [
        {
          "output_type": "stream",
          "name": "stdout",
          "text": [
            "Lista após adições: [10, 20, 30]\n",
            "Lista após remoções: [30]\n",
            "Após append(2): [3, 1, 4, 1, 5, 9, 2]\n",
            "Após pop(0): [1, 4, 1, 5, 9, 2]\n",
            "Elemento removido: 3\n",
            "Após insert(2, 7): [1, 4, 7, 1, 5, 9, 2]\n",
            "Após sort(): [1, 1, 2, 4, 5, 7, 9]\n",
            "Count de 1: 2\n",
            "Soma dos elementos: 29\n"
          ]
        }
      ]
    },
    {
      "cell_type": "code",
      "source": [
        "# questão 09\n",
        "# Criando dicionário e realizando operações\n",
        "meu_dict = {}\n",
        "meu_dict['a'] = 410\n",
        "meu_dict['b'] = 3\n",
        "meu_dict['b'] = 4  # Sobrescreve o valor anterior\n",
        "meu_dict['c'] = 56\n",
        "print(\"Dicionário após adições:\", meu_dict)\n",
        "\n",
        "# Remoções condicionais\n",
        "if 'b' in meu_dict and meu_dict['b'] == 3:\n",
        "    del meu_dict['b']\n",
        "\n",
        "if 'b' in meu_dict and meu_dict['b'] == 4:\n",
        "    del meu_dict['b']\n",
        "\n",
        "print(\"Dicionário após remoções:\", meu_dict)\n",
        "\n",
        "# Demonstração dos métodos\n",
        "# update()\n",
        "meu_dict.update({'d': 100, 'e': 200})\n",
        "print(\"Após update:\", meu_dict)\n",
        "\n",
        "# pop()\n",
        "valor_removido = meu_dict.pop('a', None)\n",
        "print(\"Valor removido com pop('a'):\", valor_removido)\n",
        "print(\"Após pop('a'):\", meu_dict)\n",
        "\n",
        "# get()\n",
        "valor_c = meu_dict.get('c', 0)\n",
        "valor_x = meu_dict.get('x', 0)\n",
        "print(\"Valor de 'c':\", valor_c)\n",
        "print(\"Valor de 'x' (não existe):\", valor_x)\n",
        "\n",
        "# keys()\n",
        "chaves = list(meu_dict.keys())\n",
        "print(\"Chaves do dicionário:\", chaves)\n",
        "\n",
        "# values()\n",
        "valores = list(meu_dict.values())\n",
        "print(\"Valores do dicionário:\", valores)\n",
        "\n",
        "# items()\n",
        "itens = list(meu_dict.items())\n",
        "print(\"Itens do dicionário:\", itens)"
      ],
      "metadata": {
        "id": "KpQqmlfeFcyS",
        "colab": {
          "base_uri": "https://localhost:8080/"
        },
        "outputId": "486f5c59-9828-41d9-cf2e-84cd1169d01b"
      },
      "execution_count": 17,
      "outputs": [
        {
          "output_type": "stream",
          "name": "stdout",
          "text": [
            "Dicionário após adições: {'a': 410, 'b': 4, 'c': 56}\n",
            "Dicionário após remoções: {'a': 410, 'c': 56}\n",
            "Após update: {'a': 410, 'c': 56, 'd': 100, 'e': 200}\n",
            "Valor removido com pop('a'): 410\n",
            "Após pop('a'): {'c': 56, 'd': 100, 'e': 200}\n",
            "Valor de 'c': 56\n",
            "Valor de 'x' (não existe): 0\n",
            "Chaves do dicionário: ['c', 'd', 'e']\n",
            "Valores do dicionário: [56, 100, 200]\n",
            "Itens do dicionário: [('c', 56), ('d', 100), ('e', 200)]\n"
          ]
        }
      ]
    },
    {
      "cell_type": "code",
      "source": [
        "# questão 10\n",
        "def check_string(s):\n",
        "    return 'ba' not in s"
      ],
      "metadata": {
        "id": "r23TD6d2FdJp"
      },
      "execution_count": 19,
      "outputs": []
    },
    {
      "cell_type": "code",
      "source": [
        "# questão 11\n",
        "array = [0, 2, 3, 4, 5, 6, 7, 8]\n",
        "\n",
        "def encontrar_numero_faltante(arr):\n",
        "    n = len(arr)\n",
        "    soma_esperada = n * (n + 1) // 2\n",
        "    soma_real = sum(arr)\n",
        "    return soma_esperada - soma_real\n",
        "\n",
        "resultado = encontrar_numero_faltante(array)\n",
        "print(resultado)"
      ],
      "metadata": {
        "id": "-sBqkaC6Fdmq",
        "colab": {
          "base_uri": "https://localhost:8080/"
        },
        "outputId": "c4407c53-3f53-4eef-9f8c-0eb2daa9d6cc"
      },
      "execution_count": 20,
      "outputs": [
        {
          "output_type": "stream",
          "name": "stdout",
          "text": [
            "1\n"
          ]
        }
      ]
    },
    {
      "cell_type": "code",
      "source": [
        "# questão 12\n",
        "array = [1, 2, 3, 3, 3, 4, 5]\n",
        "\n",
        "def elemento_mais_frequente(arr):\n",
        "    contagem = {}\n",
        "    for elemento in arr:\n",
        "        if elemento in contagem:\n",
        "            contagem[elemento] += 1\n",
        "        else:\n",
        "            contagem[elemento] = 1\n",
        "\n",
        "    max_frequencia = 0\n",
        "    elemento_mais_comum = None\n",
        "    for elemento, freq in contagem.items():\n",
        "        if freq > max_frequencia:\n",
        "            max_frequencia = freq\n",
        "            elemento_mais_comum = elemento\n",
        "\n",
        "    return elemento_mais_comum\n",
        "\n",
        "resultado = elemento_mais_frequente(array)\n",
        "print(resultado)"
      ],
      "metadata": {
        "colab": {
          "base_uri": "https://localhost:8080/"
        },
        "id": "UozMJjTshjv5",
        "outputId": "e0ac7ec8-1e69-4e13-bb1f-9e5e5cdde191"
      },
      "execution_count": 21,
      "outputs": [
        {
          "output_type": "stream",
          "name": "stdout",
          "text": [
            "3\n"
          ]
        }
      ]
    },
    {
      "cell_type": "code",
      "source": [
        "# questão 13\n",
        "meu_array = [1, 2, 2, 3, 3, 4, 4, 4, 5, 7, 1]\n",
        "\n",
        "def encontrar_valor_igual_frequencia(arr):\n",
        "    freq = {}\n",
        "    for num in arr:\n",
        "        if num in freq:\n",
        "            freq[num] += 1\n",
        "        else:\n",
        "            freq[num] = 1\n",
        "\n",
        "    for key, value in freq.items():\n",
        "        if key == value:\n",
        "            return value\n",
        "    return None\n",
        "\n",
        "resultado = encontrar_valor_igual_frequencia(meu_array)\n",
        "print(resultado)"
      ],
      "metadata": {
        "colab": {
          "base_uri": "https://localhost:8080/"
        },
        "id": "T0bRxjKPiOpu",
        "outputId": "521f1ce7-f42b-4640-fd0d-32a816074c7b"
      },
      "execution_count": 22,
      "outputs": [
        {
          "output_type": "stream",
          "name": "stdout",
          "text": [
            "2\n"
          ]
        }
      ]
    }
  ]
}