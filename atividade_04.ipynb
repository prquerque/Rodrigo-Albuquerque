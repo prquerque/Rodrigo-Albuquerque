{
  "nbformat": 4,
  "nbformat_minor": 0,
  "metadata": {
    "colab": {
      "provenance": [],
      "authorship_tag": "ABX9TyPYuwMnf2pAYAEItpVNDpiA",
      "include_colab_link": true
    },
    "kernelspec": {
      "name": "python3",
      "display_name": "Python 3"
    },
    "language_info": {
      "name": "python"
    }
  },
  "cells": [
    {
      "cell_type": "markdown",
      "metadata": {
        "id": "view-in-github",
        "colab_type": "text"
      },
      "source": [
        "<a href=\"https://colab.research.google.com/github/prquerque/Rodrigo-Albuquerque/blob/main/atividade_04.ipynb\" target=\"_parent\"><img src=\"https://colab.research.google.com/assets/colab-badge.svg\" alt=\"Open In Colab\"/></a>"
      ]
    },
    {
      "cell_type": "code",
      "execution_count": null,
      "metadata": {
        "id": "h45xrbHtFL05"
      },
      "outputs": [],
      "source": [
        "# Atividade 04\n",
        "# Notebook criado no Google Colab para [objetivo da atividade].\n",
        "# [Abrir no Colab](https://colab.research.google.com/github/prquerque/atividade_04/blob/main/atividade_04.ipynb)\n",
        "\n",
        "!git remote add origin https://github.com/prquerque/atividade-git-bfd.git"
      ]
    },
    {
      "cell_type": "code",
      "source": [
        "# Inicializar repositório\n",
        "!git init\n",
        "\n",
        "# Configure user name and email\n",
        "!git config --global user.email \"you@example.com\"\n",
        "!git config --global user.name \"Your Name\"\n",
        "\n",
        "# Criar README.md\n",
        "!echo \"# Atividade Git - BFD\" >> README.md\n",
        "\n",
        "# Adicionar arquivo ao staging\n",
        "!git add README.md\n",
        "\n",
        "# Fazer commit inicial\n",
        "!git commit -m \"Commit inicial: atividade_04\"\n",
        "\n",
        "!git branch -M main"
      ],
      "metadata": {
        "colab": {
          "base_uri": "https://localhost:8080/"
        },
        "id": "MjMCq6paHwl5",
        "outputId": "bb9fd230-a106-441c-e415-76b1dea39f80"
      },
      "execution_count": null,
      "outputs": [
        {
          "output_type": "stream",
          "name": "stdout",
          "text": [
            "Reinitialized existing Git repository in /content/.git/\n",
            "[main 13a0544] Commit inicial: atividade_04\n",
            " 1 file changed, 1 insertion(+)\n"
          ]
        }
      ]
    },
    {
      "cell_type": "code",
      "source": [
        "# Questão 01\n",
        "\n",
        "# Declaração de variáveis de diferentes tipos\n",
        "var_int = 10           # Tipo inteiro\n",
        "var_float = 7.89       # Tipo ponto flutuante\n",
        "var_str = \"Python\"     # Tipo string\n",
        "var_bool = True        # Tipo booleano\n",
        "var_lista = [1, 2, 3]  # Tipo lista\n",
        "\n",
        "# Mostrando os tipos originais\n",
        "print(\"Tipos originais:\")\n",
        "print(f\"var_int: {var_int} - Tipo: {type(var_int)}\")\n",
        "print(f\"var_float: {var_float} - Tipo: {type(var_float)}\")\n",
        "print(f\"var_str: {var_str} - Tipo: {type(var_str)}\")\n",
        "print(f\"var_bool: {var_bool} - Tipo: {type(var_bool)}\")\n",
        "print(f\"var_lista: {var_lista} - Tipo: {type(var_lista)}\")\n",
        "print()\n",
        "\n",
        "# Conversão de float para int\n",
        "print(\"Conversão de float para int:\")\n",
        "print(f\"Valor original (float): {var_float}\")\n",
        "print(f\"Convertido para int: {int(var_float)}\")\n",
        "print(f\"Tipo após conversão: {type(int(var_float))}\")\n",
        "print()\n",
        "\n",
        "# Demonstração de diferentes métodos de conversão\n",
        "numero_float = 9.99\n",
        "print(\"Métodos diferentes de conversão:\")\n",
        "print(f\"Original: {numero_float}\")\n",
        "print(f\"int(): {int(numero_float)} (remove a parte decimal)\")\n",
        "print(f\"round(): {round(numero_float)} (arredonda para o inteiro mais próximo)\")\n",
        "print(f\"math.floor(): {numero_float} -> {int(numero_float)} (equivalente ao int())\")"
      ],
      "metadata": {
        "colab": {
          "base_uri": "https://localhost:8080/"
        },
        "id": "hiJJTYw1aVKU",
        "outputId": "2f87aacb-3d1f-466e-d3d3-8fd718dc3740"
      },
      "execution_count": null,
      "outputs": [
        {
          "output_type": "stream",
          "name": "stdout",
          "text": [
            "Tipos originais:\n",
            "var_int: 10 - Tipo: <class 'int'>\n",
            "var_float: 7.89 - Tipo: <class 'float'>\n",
            "var_str: Python - Tipo: <class 'str'>\n",
            "var_bool: True - Tipo: <class 'bool'>\n",
            "var_lista: [1, 2, 3] - Tipo: <class 'list'>\n",
            "\n",
            "Conversão de float para int:\n",
            "Valor original (float): 7.89\n",
            "Convertido para int: 7\n",
            "Tipo após conversão: <class 'int'>\n",
            "\n",
            "Métodos diferentes de conversão:\n",
            "Original: 9.99\n",
            "int(): 9 (remove a parte decimal)\n",
            "round(): 10 (arredonda para o inteiro mais próximo)\n",
            "math.floor(): 9.99 -> 9 (equivalente ao int())\n"
          ]
        }
      ]
    },
    {
      "cell_type": "code",
      "source": [
        "\n",
        "# questão 02\n",
        "# Operações aritméticas básicas em Python\n",
        "\n",
        "# Definindo dois números para as operações\n",
        "num1 = 10\n",
        "num2 = 31\n",
        "\n",
        "# 1. SOMA (+)\n",
        "# Adiciona dois valores\n",
        "soma = num1 + num2\n",
        "print(f\"Soma: {num1} + {num2} = {soma}\")\n",
        "\n",
        "# 2. SUBTRAÇÃO (-)\n",
        "# Subtrai o segundo valor do primeiro\n",
        "subtracao = num1 - num2\n",
        "print(f\"Subtração: {num1} - {num2} = {subtracao}\")\n",
        "\n",
        "# 3. MULTIPLICAÇÃO (*)\n",
        "# Multiplica dois valores\n",
        "multiplicacao = num1 * num2\n",
        "print(f\"Multiplicação: {num1} * {num2} = {multiplicacao}\")\n",
        "\n",
        "# 4. DIVISÃO REAL (/)\n",
        "# Divide o primeiro valor pelo segundo, resultando em um número float\n",
        "divisao_real = num1 / num2\n",
        "print(f\"Divisão real: {num1} / {num2} = {divisao_real}\")\n",
        "\n",
        "# 5. DIVISÃO INTEIRA (//)\n",
        "# Divide o primeiro valor pelo segundo, resultando em um número inteiro (trunca a parte decimal)\n",
        "divisao_inteira = num1 // num2\n",
        "print(f\"Divisão inteira: {num1} // {num2} = {divisao_inteira}\")\n",
        "\n",
        "# 6. RESTO DA DIVISÃO/MÓDULO (%)\n",
        "# Retorna o resto da divisão do primeiro valor pelo segundo\n",
        "resto = num1 % num2\n",
        "print(f\"Resto da divisão: {num1} % {num2} = {resto}\")\n",
        "\n",
        "# 7. POTÊNCIA (**)\n",
        "# Eleva o primeiro valor à potência do segundo\n",
        "potencia = num1 ** num2\n",
        "print(f\"Potência: {num1} ** {num2} = {potencia}\")\n",
        "\n",
        "# Bônus: ORDEM DAS OPERAÇÕES\n",
        "# Python segue a ordem matemática padrão (PEMDAS)\n",
        "expressao = 5 + 3 * 2 ** 2 / 4 - 1\n",
        "print(f\"Expressão complexa: 5 + 3 * 2 ** 2 / 4 - 1 = {expressao}\")"
      ],
      "metadata": {
        "colab": {
          "base_uri": "https://localhost:8080/"
        },
        "id": "SDRq9X8Aah1W",
        "outputId": "eaaa0de0-39a3-472d-b5eb-b4224a8db0c2"
      },
      "execution_count": null,
      "outputs": [
        {
          "output_type": "stream",
          "name": "stdout",
          "text": [
            "Soma: 10 + 31 = 41\n",
            "Subtração: 10 - 31 = -21\n",
            "Multiplicação: 10 * 31 = 310\n",
            "Divisão real: 10 / 31 = 0.3225806451612903\n",
            "Divisão inteira: 10 // 31 = 0\n",
            "Resto da divisão: 10 % 31 = 10\n",
            "Potência: 10 ** 31 = 10000000000000000000000000000000\n",
            "Expressão complexa: 5 + 3 * 2 ** 2 / 4 - 1 = 7.0\n"
          ]
        }
      ]
    },
    {
      "cell_type": "code",
      "source": [
        "# questão 03\n",
        "# Sistema de avaliação de conceitos baseado em notas\n",
        "\n",
        "# Solicita a nota do usuário\n",
        "nota = float(input(\"Digite a nota do aluno (0-100): \"))\n",
        "\n",
        "# Verifica se a nota está dentro do intervalo válido\n",
        "if nota < 0 or nota > 150:\n",
        "    print(\"Erro: A nota deve estar entre 0 e 100.\")\n",
        "else:\n",
        "    # Define o conceito com base na nota\n",
        "    if nota >= 90:\n",
        "        conceito = \"A\"\n",
        "        # Nota excelente - acima de 90\n",
        "    elif nota >= 80 and nota < 90:\n",
        "        conceito = \"B\"\n",
        "        # Nota boa - entre 80 e 89\n",
        "    elif nota >= 70 and nota < 80:\n",
        "        conceito = \"C\"\n",
        "        # Nota regular - entre 70 e 79\n",
        "    else:\n",
        "        conceito = \"D\"\n",
        "        # Nota insuficiente - abaixo de 70\n",
        "\n",
        "    # Verifica se o aluno está aprovado (conceito A, B ou C)\n",
        "    # Usando operador lógico 'or' para múltiplas condições\n",
        "    if conceito == \"A\" or conceito == \"B\" or conceito == \"C\":\n",
        "        status = \"Aprovado\"\n",
        "    else:\n",
        "        status = \"Reprovado\"\n",
        "\n",
        "    # Verifica se o aluno tem uma nota excepcional (A e acima de 95)\n",
        "    # Usando operador lógico 'and' para combinar condições\n",
        "    if conceito == \"A\" and nota > 95:\n",
        "        mensagem_extra = \" - Desempenho excepcional!\"\n",
        "    else:\n",
        "        mensagem_extra = \"\"\n",
        "\n",
        "    # Exibe o resultado\n",
        "    print(f\"Nota: {nota}\")\n",
        "    print(f\"Conceito: {conceito}\")\n",
        "    print(f\"Status: {status}{mensagem_extra}\")\n",
        "\n",
        "# Exemplo de uso do operador 'not'\n",
        "nota_recuperacao = 65\n",
        "pode_fazer_recuperacao = not (conceito == \"A\")  # Apenas quem não tem conceito A\n",
        "print(f\"\\nAluno pode fazer recuperação? {pode_fazer_recuperacao}\")"
      ],
      "metadata": {
        "colab": {
          "base_uri": "https://localhost:8080/"
        },
        "id": "Acd8mNzfbSoN",
        "outputId": "607ed589-e576-40a1-c1e1-1911b6986b79"
      },
      "execution_count": null,
      "outputs": [
        {
          "output_type": "stream",
          "name": "stdout",
          "text": [
            "Digite a nota do aluno (0-100): 134\n",
            "Nota: 134.0\n",
            "Conceito: A\n",
            "Status: Aprovado - Desempenho excepcional!\n",
            "\n",
            "Aluno pode fazer recuperação? False\n"
          ]
        }
      ]
    },
    {
      "cell_type": "code",
      "source": [
        "# questão 04\n",
        "# Demonstração de estruturas de repetição em Python\n",
        "\n",
        "print(\"=== LOOP FOR ===\")\n",
        "# Usando for para iterar sobre uma sequência e acumular resultados\n",
        "\n",
        "# Exemplo 1: Iterar sobre uma lista de números e calcular a soma\n",
        "numeros = [1, 2, 3, 4, 5]\n",
        "soma = 0\n",
        "\n",
        "print(\"Iterando sobre uma lista e acumulando a soma:\")\n",
        "for numero in numeros:\n",
        "    soma += numero  # Acumula cada número na variável soma\n",
        "    print(f\"Número: {numero}, Soma parcial: {soma}\")\n",
        "\n",
        "print(f\"Soma final: {soma}\")\n",
        "print()\n",
        "\n",
        "# Exemplo 2: Iterar sobre um intervalo com range()\n",
        "print(\"Iterando sobre um intervalo com range():\")\n",
        "for i in range(1, 6):  # range(início, fim) - fim não inclusivo\n",
        "    quadrado = i ** 2\n",
        "    print(f\"{i} ao quadrado é {quadrado}\")\n",
        "print()\n",
        "\n",
        "print(\"=== LOOP WHILE ===\")\n",
        "# Usando while para construir/modificar uma lista até uma condição ser atingida\n",
        "\n",
        "# Exemplo 1: Construir uma lista de números até que a soma atinja um valor\n",
        "lista_numeros = []\n",
        "soma_atual = 0\n",
        "valor_limite = 20\n",
        "numero = 1\n",
        "\n",
        "print(f\"Construindo lista até que a soma atinja {valor_limite}:\")\n",
        "while soma_atual < valor_limite:\n",
        "    lista_numeros.append(numero)\n",
        "    soma_atual += numero\n",
        "    print(f\"Adicionado: {numero}, Lista: {lista_numeros}, Soma: {soma_atual}\")\n",
        "    numero += 1\n",
        "\n",
        "print(f\"Lista final: {lista_numeros}\")\n",
        "print(f\"Soma final: {soma_atual}\")\n",
        "print()\n",
        "\n",
        "# Exemplo 2: Modificar uma lista até que contenha apenas números pares\n",
        "print(\"Modificando lista para conter apenas números pares:\")\n",
        "numeros_misturados = [1, 2, 3, 4, 5, 6, 7, 8, 9, 10]\n",
        "indice = 0\n",
        "\n",
        "print(f\"Lista original: {numeros_misturados}\")\n",
        "while indice < len(numeros_misturados):\n",
        "    if numeros_misturados[indice] % 2 != 0:  # Se o número é ímpar\n",
        "        removido = numeros_misturados.pop(indice)  # Remove o número ímpar\n",
        "        print(f\"Removido: {removido}, Lista atual: {numeros_misturados}\")\n",
        "    else:\n",
        "        indice += 1  # Só avança se não removeu um elemento\n",
        "\n",
        "print(f\"Lista final (apenas pares): {numeros_misturados}\")"
      ],
      "metadata": {
        "colab": {
          "base_uri": "https://localhost:8080/"
        },
        "id": "WgO7CD2Bb-Mt",
        "outputId": "753a16b9-3355-4ca2-89a7-498bea9f8e79"
      },
      "execution_count": null,
      "outputs": [
        {
          "output_type": "stream",
          "name": "stdout",
          "text": [
            "=== LOOP FOR ===\n",
            "Iterando sobre uma lista e acumulando a soma:\n",
            "Número: 1, Soma parcial: 1\n",
            "Número: 2, Soma parcial: 3\n",
            "Número: 3, Soma parcial: 6\n",
            "Número: 4, Soma parcial: 10\n",
            "Número: 5, Soma parcial: 15\n",
            "Soma final: 15\n",
            "\n",
            "Iterando sobre um intervalo com range():\n",
            "1 ao quadrado é 1\n",
            "2 ao quadrado é 4\n",
            "3 ao quadrado é 9\n",
            "4 ao quadrado é 16\n",
            "5 ao quadrado é 25\n",
            "\n",
            "=== LOOP WHILE ===\n",
            "Construindo lista até que a soma atinja 20:\n",
            "Adicionado: 1, Lista: [1], Soma: 1\n",
            "Adicionado: 2, Lista: [1, 2], Soma: 3\n",
            "Adicionado: 3, Lista: [1, 2, 3], Soma: 6\n",
            "Adicionado: 4, Lista: [1, 2, 3, 4], Soma: 10\n",
            "Adicionado: 5, Lista: [1, 2, 3, 4, 5], Soma: 15\n",
            "Adicionado: 6, Lista: [1, 2, 3, 4, 5, 6], Soma: 21\n",
            "Lista final: [1, 2, 3, 4, 5, 6]\n",
            "Soma final: 21\n",
            "\n",
            "Modificando lista para conter apenas números pares:\n",
            "Lista original: [1, 2, 3, 4, 5, 6, 7, 8, 9, 10]\n",
            "Removido: 1, Lista atual: [2, 3, 4, 5, 6, 7, 8, 9, 10]\n",
            "Removido: 3, Lista atual: [2, 4, 5, 6, 7, 8, 9, 10]\n",
            "Removido: 5, Lista atual: [2, 4, 6, 7, 8, 9, 10]\n",
            "Removido: 7, Lista atual: [2, 4, 6, 8, 9, 10]\n",
            "Removido: 9, Lista atual: [2, 4, 6, 8, 10]\n",
            "Lista final (apenas pares): [2, 4, 6, 8, 10]\n"
          ]
        }
      ]
    },
    {
      "cell_type": "code",
      "source": [
        "# questão 05\n",
        "\n",
        "# Funções em Python com parâmetros e retorno\n",
        "\n",
        "# Função que calcula a área de um retângulo\n",
        "def calcular_area_retangulo(largura, altura):\n",
        "    \"\"\"\n",
        "    Calcula a área de um retângulo com base na largura e altura fornecidas.\n",
        "\n",
        "    Parâmetros:\n",
        "    largura (float): Largura do retângulo\n",
        "    altura (float): Altura do retângulo\n",
        "\n",
        "    Retorna:\n",
        "    float: Área do retângulo (largura * altura)\n",
        "    \"\"\"\n",
        "    area = largura * altura\n",
        "    return area\n",
        "\n",
        "# Função que verifica se um número é par e positivo\n",
        "def eh_par_e_positivo(numero):\n",
        "    \"\"\"\n",
        "    Verifica se um número é par e positivo ao mesmo tempo.\n",
        "\n",
        "    Parâmetros:\n",
        "    numero (int): Número a ser verificado\n",
        "\n",
        "    Retorna:\n",
        "    bool: True se o número for par e positivo, False caso contrário\n",
        "    \"\"\"\n",
        "    return numero > 0 and numero % 2 == 0\n",
        "\n",
        "# Função principal que demonstra o uso das outras funções\n",
        "def main():\n",
        "    # Demonstração da função calcular_area_retangulo\n",
        "    print(\"=== CÁLCULO DE ÁREA ===\")\n",
        "    largura = float(input(\"Digite a largura do retângulo: \"))\n",
        "    altura = float(input(\"Digite a altura do retângulo: \"))\n",
        "\n",
        "    area = calcular_area_retangulo(largura, altura)\n",
        "    print(f\"A área do retângulo com largura {largura} e altura {altura} é: {area}\")\n",
        "    print()\n",
        "\n",
        "    # Demonstração da função eh_par_e_positivo\n",
        "    print(\"=== VERIFICAÇÃO DE NÚMERO PAR E POSITIVO ===\")\n",
        "    numero = int(input(\"Digite um número inteiro: \"))\n",
        "\n",
        "    if eh_par_e_positivo(numero):\n",
        "        print(f\"O número {numero} é par e positivo.\")\n",
        "    else:\n",
        "        print(f\"O número {numero} não é par e positivo.\")\n",
        "\n",
        "    # Teste adicional com valores fixos\n",
        "    print(\"\\n=== TESTES ADICIONAIS ===\")\n",
        "    print(f\"Área de 5x3: {calcular_area_retangulo(5, 3)}\")\n",
        "    print(f\"Área de 2.5x4: {calcular_area_retangulo(2.5, 4)}\")\n",
        "    print(f\"10 é par e positivo? {eh_par_e_positivo(10)}\")\n",
        "    print(f\"7 é par e positivo? {eh_par_e_positivo(7)}\")\n",
        "    print(f\"-4 é par e positivo? {eh_par_e_positivo(-4)}\")\n",
        "\n",
        "# Executa a função principal se este arquivo for executado diretamente\n",
        "if __name__ == \"__main__\":\n",
        "    main()"
      ],
      "metadata": {
        "colab": {
          "base_uri": "https://localhost:8080/"
        },
        "id": "F1DEgc-VeO4a",
        "outputId": "54157c10-7d66-4768-f181-cee28ad57f46"
      },
      "execution_count": null,
      "outputs": [
        {
          "output_type": "stream",
          "name": "stdout",
          "text": [
            "=== CÁLCULO DE ÁREA ===\n",
            "Digite a largura do retângulo: 6\n",
            "Digite a altura do retângulo: 2\n",
            "A área do retângulo com largura 6.0 e altura 2.0 é: 12.0\n",
            "\n",
            "=== VERIFICAÇÃO DE NÚMERO PAR E POSITIVO ===\n",
            "Digite um número inteiro: 4\n",
            "O número 4 é par e positivo.\n",
            "\n",
            "=== TESTES ADICIONAIS ===\n",
            "Área de 5x3: 15\n",
            "Área de 2.5x4: 10.0\n",
            "10 é par e positivo? True\n",
            "7 é par e positivo? False\n",
            "-4 é par e positivo? False\n"
          ]
        }
      ]
    },
    {
      "cell_type": "code",
      "source": [
        "# questão 06\n",
        "# Manipulação de Listas e Dicionários\n",
        "\n",
        "print(\"=== MANIPULAÇÃO DE LISTAS ===\")\n",
        "\n",
        "# Criando uma lista inicial\n",
        "frutas = [\"maçã\", \"banana\", \"laranja\"]\n",
        "print(f\"Lista inicial: {frutas}\")\n",
        "\n",
        "# 1. Adicionando elemento ao final da lista com append()\n",
        "frutas.append(\"uva\")\n",
        "print(f\"Após append('uva'): {frutas}\")\n",
        "\n",
        "# 2. Atualizando elemento por índice\n",
        "frutas[1] = \"morango\"  # Substitui \"banana\" por \"morango\"\n",
        "print(f\"Após atualizar índice 1: {frutas}\")\n",
        "\n",
        "# 3. Removendo elemento por valor com remove()\n",
        "frutas.remove(\"laranja\")\n",
        "print(f\"Após remove('laranja'): {frutas}\")\n",
        "\n",
        "# 4. Adicionando elemento em posição específica com insert()\n",
        "frutas.insert(1, \"abacaxi\")\n",
        "print(f\"Após insert(1, 'abacaxi'): {frutas}\")\n",
        "\n",
        "# 5. Removendo elemento por índice com pop()\n",
        "removido = frutas.pop(2)\n",
        "print(f\"Após pop(2): {frutas} (elemento removido: {removido})\")\n",
        "\n",
        "print(\"\\n=== MANIPULAÇÃO DE DICIONÁRIOS ===\")\n",
        "\n",
        "# Criando um dicionário inicial\n",
        "pessoa = {\n",
        "    \"nome\": \"João\",\n",
        "    \"idade\": 30,\n",
        "    \"cidade\": \"São Paulo\"\n",
        "}\n",
        "print(f\"Dicionário inicial: {pessoa}\")\n",
        "\n",
        "# 1. Adicionando nova chave-valor\n",
        "pessoa[\"profissão\"] = \"engenheiro\"\n",
        "print(f\"Após adicionar profissão: {pessoa}\")\n",
        "\n",
        "# 2. Atualizando valor de uma chave existente\n",
        "pessoa[\"idade\"] = 31\n",
        "print(f\"Após atualizar idade: {pessoa}\")\n",
        "\n",
        "# 3. Removendo elemento com del\n",
        "del pessoa[\"cidade\"]\n",
        "print(f\"Após deletar 'cidade': {pessoa}\")\n",
        "\n",
        "# 4. Adicionando múltiplos elementos com update()\n",
        "pessoa.update({\"hobbies\": [\"leitura\", \"natação\"], \"estado\": \"SP\"})\n",
        "print(f\"Após update com novos campos: {pessoa}\")\n",
        "\n",
        "# 5. Removendo elemento com pop()\n",
        "idade_removida = pessoa.pop(\"idade\")\n",
        "print(f\"Após pop('idade'): {pessoa} (valor removido: {idade_removida})\")\n",
        "\n",
        "print(\"\\n=== OPERAÇÕES ADICIONAIS ===\")\n",
        "\n",
        "# Demonstração de outras operações úteis\n",
        "numeros = [1, 2, 3, 4, 5]\n",
        "\n",
        "# Fatiamento de lista\n",
        "print(f\"Fatiamento de lista: {numeros[1:4]}\")  # Elementos do índice 1 ao 3\n",
        "\n",
        "# Verificação de existência de chave em dicionário\n",
        "if \"nome\" in pessoa:\n",
        "    print(f\"A chave 'nome' existe no dicionário: {pessoa['nome']}\")\n",
        "\n",
        "# Iteração sobre dicionário\n",
        "print(\"Chaves e valores do dicionário:\")\n",
        "for chave, valor in pessoa.items():\n",
        "    print(f\"  {chave}: {valor}\")"
      ],
      "metadata": {
        "colab": {
          "base_uri": "https://localhost:8080/"
        },
        "id": "mje-kikCkU14",
        "outputId": "494eb134-350f-452a-baec-fc6e73bbc986"
      },
      "execution_count": null,
      "outputs": [
        {
          "output_type": "stream",
          "name": "stdout",
          "text": [
            "=== MANIPULAÇÃO DE LISTAS ===\n",
            "Lista inicial: ['maçã', 'banana', 'laranja']\n",
            "Após append('uva'): ['maçã', 'banana', 'laranja', 'uva']\n",
            "Após atualizar índice 1: ['maçã', 'morango', 'laranja', 'uva']\n",
            "Após remove('laranja'): ['maçã', 'morango', 'uva']\n",
            "Após insert(1, 'abacaxi'): ['maçã', 'abacaxi', 'morango', 'uva']\n",
            "Após pop(2): ['maçã', 'abacaxi', 'uva'] (elemento removido: morango)\n",
            "\n",
            "=== MANIPULAÇÃO DE DICIONÁRIOS ===\n",
            "Dicionário inicial: {'nome': 'João', 'idade': 30, 'cidade': 'São Paulo'}\n",
            "Após adicionar profissão: {'nome': 'João', 'idade': 30, 'cidade': 'São Paulo', 'profissão': 'engenheiro'}\n",
            "Após atualizar idade: {'nome': 'João', 'idade': 31, 'cidade': 'São Paulo', 'profissão': 'engenheiro'}\n",
            "Após deletar 'cidade': {'nome': 'João', 'idade': 31, 'profissão': 'engenheiro'}\n",
            "Após update com novos campos: {'nome': 'João', 'idade': 31, 'profissão': 'engenheiro', 'hobbies': ['leitura', 'natação'], 'estado': 'SP'}\n",
            "Após pop('idade'): {'nome': 'João', 'profissão': 'engenheiro', 'hobbies': ['leitura', 'natação'], 'estado': 'SP'} (valor removido: 31)\n",
            "\n",
            "=== OPERAÇÕES ADICIONAIS ===\n",
            "Fatiamento de lista: [2, 3, 4]\n",
            "A chave 'nome' existe no dicionário: João\n",
            "Chaves e valores do dicionário:\n",
            "  nome: João\n",
            "  profissão: engenheiro\n",
            "  hobbies: ['leitura', 'natação']\n",
            "  estado: SP\n"
          ]
        }
      ]
    },
    {
      "cell_type": "code",
      "source": [
        "# O que é controle de versão?\n",
        "\n",
        "# R. Se trata de um sistema que salva as alterações de um determinado arquivo.\n",
        "\n",
        "# A importância do controle de versão\n",
        "# R. Conseguimos recuperar arquivos, fazer backup, corrigir bug, acompanhar historico de atividades realizadas no arquivo.\n",
        "# O que você aprendeu ao fazer esta atividade (reflexão pessoal curta)\n",
        "# R. Aprendi que fica mais simples acompanhar uma determinada atividade com uso de git\n",
        "\n",
        "!git add .\n",
        "\n",
        "# Adicione uma mensagem de commit relevante\n",
        "!git commit -m \"Adiciona reflexão sobre controle de versão e comandos git\"\n",
        "\n",
        "# Envie as mudanças para o repositório remoto\n",
        "!git push origin main"
      ],
      "metadata": {
        "colab": {
          "base_uri": "https://localhost:8080/"
        },
        "id": "6WLIC4s9n_mo",
        "outputId": "e81736f8-5abb-4209-d41a-c992b12cc971"
      },
      "execution_count": null,
      "outputs": [
        {
          "output_type": "stream",
          "name": "stdout",
          "text": [
            "On branch main\n",
            "nothing to commit, working tree clean\n",
            "fatal: could not read Username for 'https://github.com': No such device or address\n"
          ]
        }
      ]
    }
  ]
}