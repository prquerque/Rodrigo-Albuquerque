{
  "nbformat": 4,
  "nbformat_minor": 0,
  "metadata": {
    "colab": {
      "provenance": [],
      "authorship_tag": "ABX9TyMR+KsJ14SYwtWgAz+tNtdd",
      "include_colab_link": true
    },
    "kernelspec": {
      "name": "python3",
      "display_name": "Python 3"
    },
    "language_info": {
      "name": "python"
    }
  },
  "cells": [
    {
      "cell_type": "markdown",
      "metadata": {
        "id": "view-in-github",
        "colab_type": "text"
      },
      "source": [
        "<a href=\"https://colab.research.google.com/github/prquerque/Rodrigo-Albuquerque/blob/main/Aula1709.ipynb\" target=\"_parent\"><img src=\"https://colab.research.google.com/assets/colab-badge.svg\" alt=\"Open In Colab\"/></a>"
      ]
    },
    {
      "cell_type": "code",
      "source": [
        "\n",
        "class Veiculo:\n",
        "    def __init__(self, marca, modelo, ano):\n",
        "        self.marca = marca\n",
        "        self.modelo = modelo\n",
        "        self.ano = ano\n",
        "        self.ligado = False\n",
        "\n",
        "    def ligar(self):\n",
        "        if not self.ligado:\n",
        "            self.ligado = True\n",
        "            print(f\"{self.marca} {self.modelo} ligou.\")\n",
        "        else:\n",
        "            print(f\"{self.marca} {self.modelo} já está ligado.\")\n",
        "\n",
        "    def desligar(self):\n",
        "        if self.ligado:\n",
        "            self.ligado = False\n",
        "            print(f\"{self.marca} {self.modelo} desligou.\")\n",
        "        else:\n",
        "            print(f\"{self.marca} {self.modelo} já está desligado.\")\n",
        "\n",
        "    def info(self):\n",
        "        return f\"Marca: {self.marca}, Modelo: {self.modelo}, Ano: {self.ano}\"\n",
        "\n",
        "\n",
        "class Carro(Veiculo):\n",
        "    def __init__(self, marca, modelo, ano, numero_portas):\n",
        "        super().__init__(marca, modelo, ano)\n",
        "        self.numero_portas = numero_portas\n",
        "\n",
        "    def info(self):\n",
        "        info_veiculo = super().info()\n",
        "        return f\"{info_veiculo}, Número de Portas: {self.numero_portas}\"\n",
        "\n",
        "    def abrir_porta(self):\n",
        "        print(f\"Abriu {self.numero_portas} portas do {self.modelo}.\")\n",
        "\n",
        "\n",
        "# Exemplo de uso:\n",
        "if __name__ == \"__main__\":\n",
        "    carro1 = Carro(\"Toyota\", \"Corolla\", 2022, 4)\n",
        "    print(carro1.info())  # Exibe informações do carro\n",
        "    carro1.ligar()        # Liga o veículo\n",
        "    carro1.abrir_porta()  # Abre as portas\n",
        "    carro1.desligar()     # Desliga o veículo"
      ],
      "metadata": {
        "colab": {
          "base_uri": "https://localhost:8080/"
        },
        "id": "u393ktr4oUxG",
        "outputId": "88b3e6c4-808b-418a-8bbc-3655045ed8c8"
      },
      "execution_count": 2,
      "outputs": [
        {
          "output_type": "stream",
          "name": "stdout",
          "text": [
            "Marca: Toyota, Modelo: Corolla, Ano: 2022, Número de Portas: 4\n",
            "Toyota Corolla ligou.\n",
            "Abriu 4 portas do Corolla.\n",
            "Toyota Corolla desligou.\n"
          ]
        }
      ]
    },
    {
      "cell_type": "code",
      "source": [
        "\n",
        "# Definindo a classe Planta\n",
        "class Planta:\n",
        "    def __init__(self, especie):\n",
        "        self.especie = especie\n",
        "\n",
        "# Definindo a classe Cacto que herda de Planta\n",
        "class Cacto(Planta):\n",
        "    def __init__(self, especie):\n",
        "        super().__init__(especie)\n",
        "\n",
        "# Criando uma instância da classe Cacto com o nome \"opuntia\"\n",
        "meu_cacto = Cacto(\"opuntia\")\n",
        "\n",
        "# Imprimindo a espécie do cacto para demonstrar que herdou o atributo da classe Planta\n",
        "print(meu_cacto.especie)"
      ],
      "metadata": {
        "colab": {
          "base_uri": "https://localhost:8080/"
        },
        "id": "JNz7DnUMqg9a",
        "outputId": "3535b4dd-2f76-411a-d925-729eec32fd41"
      },
      "execution_count": 1,
      "outputs": [
        {
          "output_type": "stream",
          "name": "stdout",
          "text": [
            "opuntia\n"
          ]
        }
      ]
    },
    {
      "cell_type": "code",
      "source": [
        "\n",
        "class Pessoa:\n",
        "    def __init__(self, nome, idade):\n",
        "        self.nome = nome\n",
        "        self.idade = idade\n",
        "\n",
        "class Estudante(Pessoa):\n",
        "    def __init__(self, nome, idade, curso):\n",
        "        super().__init__(nome, idade)  # Chama o construtor da classe pai\n",
        "        self.curso = curso\n",
        "\n",
        "# Criando uma instância de Estudante\n",
        "estudante1 = Estudante(\"João\", 20, \"Engenharia\")\n",
        "\n",
        "# Acessando os atributos herdados e específicos\n",
        "print(f\"Nome: {estudante1.nome}\")\n",
        "print(f\"Idade: {estudante1.idade}\")\n",
        "print(f\"Curso: {estudante1.curso}\")"
      ],
      "metadata": {
        "colab": {
          "base_uri": "https://localhost:8080/"
        },
        "id": "IuZl9q4fzjQU",
        "outputId": "484892da-2dda-436e-fb3b-f94620f4e1eb"
      },
      "execution_count": 2,
      "outputs": [
        {
          "output_type": "stream",
          "name": "stdout",
          "text": [
            "Nome: João\n",
            "Idade: 20\n",
            "Curso: Engenharia\n"
          ]
        }
      ]
    },
    {
      "cell_type": "code",
      "source": [
        "\n",
        "class Pessoa:\n",
        "    def __init__(self, nome, idade):\n",
        "        self.nome = nome\n",
        "        self.idade = idade\n",
        "\n",
        "    def apresentar(self):\n",
        "        return f\"Olá, eu sou {self.nome} e tenho {self.idade} anos\"\n",
        "\n",
        "\n",
        "class Atleta(Pessoa):\n",
        "    def __init__(self, nome, idade, modalidade):\n",
        "        super().__init__(nome, idade)  # Herda atributos da classe Pessoa\n",
        "        self.modalidade = modalidade\n",
        "\n",
        "    def apresentar(self):  # Subscreve o método da classe pai\n",
        "        return f\"Olá, eu sou {self.nome}, tenho {self.idade} anos e sou atleta de {self.modalidade}\"\n",
        "\n",
        "\n",
        "class Equipe:\n",
        "    def __init__(self, nome_equipe):\n",
        "        self.nome_equipe = nome_equipe\n",
        "        self.atletas = []  # Lista vazia de atletas\n",
        "\n",
        "    def adicionar_atleta(self, atleta):\n",
        "        self.atletas.append(atleta)\n",
        "        print(f\"{atleta.nome} foi adicionado(a) à equipe {self.nome_equipe}\")\n",
        "\n",
        "    def listar_atletas(self):\n",
        "        if not self.atletas:\n",
        "            print(f\"A equipe {self.nome_equipe} não tem atletas ainda.\")\n",
        "        else:\n",
        "            print(f\"Atletas da equipe {self.nome_equipe}:\")\n",
        "            for atleta in self.atletas:\n",
        "                print(f\"- {atleta.apresentar()}\")\n",
        "\n",
        "    def contar_atletas(self):\n",
        "        quantidade = len(self.atletas)\n",
        "        print(f\"A equipe {self.nome_equipe} tem {quantidade} atleta(s).\")\n",
        "        return quantidade\n",
        "\n",
        "\n",
        "# Exemplo de uso:\n",
        "if __name__ == \"__main__\":\n",
        "    # Criando atletas\n",
        "    atleta1 = Atleta(\"Rodrigo\", 41, \"natação\")\n",
        "    atleta2 = Atleta(\"Maria\", 25, \"atletismo\")\n",
        "    atleta3 = Atleta(\"Carlos\", 32, \"ciclismo\")\n",
        "\n",
        "    # Criando equipe\n",
        "    equipe_brasil = Equipe(\"Time Brasil\")\n",
        "\n",
        "    # Adicionando atletas à equipe\n",
        "    equipe_brasil.adicionar_atleta(atleta1)\n",
        "    equipe_brasil.adicionar_atleta(atleta2)\n",
        "    equipe_brasil.adicionar_atleta(atleta3)\n",
        "\n",
        "    # Listando atletas\n",
        "    equipe_brasil.listar_atletas()\n",
        "\n",
        "    # Contando atletas\n",
        "    equipe_brasil.contar_atletas()\n",
        "\n",
        "    # Demonstrando o método apresentar de um atleta individual\n",
        "    print(\"\\nApresentação individual:\")\n",
        "    print(atleta1.apresentar())"
      ],
      "metadata": {
        "colab": {
          "base_uri": "https://localhost:8080/"
        },
        "id": "1OxTABdf3tOC",
        "outputId": "9fe329e9-b8fb-4d2a-d369-a87509c209f9"
      },
      "execution_count": 1,
      "outputs": [
        {
          "output_type": "stream",
          "name": "stdout",
          "text": [
            "Rodrigo foi adicionado(a) à equipe Time Brasil\n",
            "Maria foi adicionado(a) à equipe Time Brasil\n",
            "Carlos foi adicionado(a) à equipe Time Brasil\n",
            "Atletas da equipe Time Brasil:\n",
            "- Olá, eu sou Rodrigo, tenho 41 anos e sou atleta de natação\n",
            "- Olá, eu sou Maria, tenho 25 anos e sou atleta de atletismo\n",
            "- Olá, eu sou Carlos, tenho 32 anos e sou atleta de ciclismo\n",
            "A equipe Time Brasil tem 3 atleta(s).\n",
            "\n",
            "Apresentação individual:\n",
            "Olá, eu sou Rodrigo, tenho 41 anos e sou atleta de natação\n"
          ]
        }
      ]
    },
    {
      "cell_type": "code",
      "source": [
        "\n",
        "class Produto:\n",
        "    def __init__(self, nome, preco):\n",
        "        self.nome = nome\n",
        "        self.preco = preco\n",
        "\n",
        "    def exibir_informacoes(self):\n",
        "        return f\"Produto: {self.nome} | Preço: R$ {self.preco:.2f}\"\n",
        "\n",
        "\n",
        "class Eletronico(Produto):\n",
        "    def __init__(self, nome, preco, garantia_meses):\n",
        "        super().__init__(nome, preco)  # Herda atributos da classe Produto\n",
        "        self.garantia_meses = garantia_meses\n",
        "\n",
        "    def exibir_informacoes(self):  # Subscreve o método da classe pai\n",
        "        return f\"Produto: {self.nome} | Preço: R$ {self.preco:.2f} | Garantia: {self.garantia_meses} meses\"\n",
        "\n",
        "\n",
        "class Estoque:\n",
        "    def __init__(self):\n",
        "        self.eletronicos = []  # Lista vazia de eletrônicos\n",
        "\n",
        "    def adicionar_item(self, eletronico):\n",
        "        self.eletronicos.append(eletronico)\n",
        "        print(f\"{eletronico.nome} foi adicionado ao estoque\")\n",
        "\n",
        "    def listar_eletronicos(self):\n",
        "        if not self.eletronicos:\n",
        "            print(\"O estoque está vazio.\")\n",
        "        else:\n",
        "            print(\"Eletrônicos no estoque:\")\n",
        "            for eletronico in self.eletronicos:\n",
        "                print(f\"- {eletronico.exibir_informacoes()}\")\n",
        "\n",
        "    def contar_eletronicos(self):\n",
        "        quantidade = len(self.eletronicos)\n",
        "        print(f\"O estoque tem {quantidade} eletrônico(s).\")\n",
        "        return quantidade\n",
        "\n",
        "\n",
        "# Exemplo de uso:\n",
        "if __name__ == \"__main__\":\n",
        "    # Criando alguns produtos eletrônicos\n",
        "    notebook = Eletronico(\"Notebook Dell\", 3500.00, 24)\n",
        "    smartphone = Eletronico(\"iPhone 13\", 5000.00, 12)\n",
        "    tablet = Eletronico(\"iPad Air\", 2800.00, 12)\n",
        "\n",
        "    # Criando o estoque\n",
        "    estoque_loja = Estoque()\n",
        "\n",
        "    # Adicionando itens ao estoque\n",
        "    estoque_loja.adicionar_item(notebook)\n",
        "    estoque_loja.adicionar_item(smartphone)\n",
        "    estoque_loja.adicionar_item(tablet)\n",
        "\n",
        "    # Listando todos os eletrônicos no estoque\n",
        "    estoque_loja.listar_eletronicos()\n",
        "\n",
        "    # Contando quantos eletrônicos temos\n",
        "    estoque_loja.contar_eletronicos()\n",
        "\n",
        "    # Demonstrando o método exibir_informacoes de um produto individual\n",
        "    print(\"\\nInformações de um produto:\")\n",
        "    print(notebook.exibir_informacoes())"
      ],
      "metadata": {
        "colab": {
          "base_uri": "https://localhost:8080/"
        },
        "id": "IKOV9SHWE4E9",
        "outputId": "6bfbaf28-4a52-4a26-e8cb-93c7a35ddb61"
      },
      "execution_count": 1,
      "outputs": [
        {
          "output_type": "stream",
          "name": "stdout",
          "text": [
            "Notebook Dell foi adicionado ao estoque\n",
            "iPhone 13 foi adicionado ao estoque\n",
            "iPad Air foi adicionado ao estoque\n",
            "Eletrônicos no estoque:\n",
            "- Produto: Notebook Dell | Preço: R$ 3500.00 | Garantia: 24 meses\n",
            "- Produto: iPhone 13 | Preço: R$ 5000.00 | Garantia: 12 meses\n",
            "- Produto: iPad Air | Preço: R$ 2800.00 | Garantia: 12 meses\n",
            "O estoque tem 3 eletrônico(s).\n",
            "\n",
            "Informações de um produto:\n",
            "Produto: Notebook Dell | Preço: R$ 3500.00 | Garantia: 24 meses\n"
          ]
        }
      ]
    }
  ]
}