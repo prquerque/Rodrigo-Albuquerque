{
  "nbformat": 4,
  "nbformat_minor": 0,
  "metadata": {
    "colab": {
      "provenance": [],
      "authorship_tag": "ABX9TyNBICHRuFNA3kwvzSORTyry",
      "include_colab_link": true
    },
    "kernelspec": {
      "name": "python3",
      "display_name": "Python 3"
    },
    "language_info": {
      "name": "python"
    }
  },
  "cells": [
    {
      "cell_type": "markdown",
      "metadata": {
        "id": "view-in-github",
        "colab_type": "text"
      },
      "source": [
        "<a href=\"https://colab.research.google.com/github/prquerque/Rodrigo-Albuquerque/blob/main/Aula1509.ipynb\" target=\"_parent\"><img src=\"https://colab.research.google.com/assets/colab-badge.svg\" alt=\"Open In Colab\"/></a>"
      ]
    },
    {
      "cell_type": "code",
      "metadata": {
        "id": "1246802c"
      },
      "source": [
        "!git config --global user.name \"prquerque\"\n",
        "!git config --global user.email \"prquerque@yahoo.com.br\""
      ],
      "execution_count": 12,
      "outputs": []
    },
    {
      "cell_type": "code",
      "source": [
        "\n",
        "class Goku:\n",
        "    def __init__(self, cor, caracteristica, lar):\n",
        "        self.cor = cor\n",
        "        self.caracteristica = caracteristica\n",
        "        self.lar = lar\n",
        "\n",
        "    def exibir_info(self):\n",
        "        return f\"Goku: Cor={self.cor}, Característica={self.caracteristica}, Lar={self.lar}\"\n",
        "\n",
        "# Exemplo de uso:\n",
        "goku1 = Goku(\"Preto\", \"Cabelo espalhado\", \"Planeta Vegeta\")\n",
        "print(goku1.exibir_info())"
      ],
      "metadata": {
        "colab": {
          "base_uri": "https://localhost:8080/"
        },
        "id": "rFJmSkIaam3o",
        "outputId": "6f8a0130-9402-44a4-cbee-63d5b3b460c4"
      },
      "execution_count": 7,
      "outputs": [
        {
          "output_type": "stream",
          "name": "stdout",
          "text": [
            "Goku: Cor=Preto, Característica=Cabelo espalhado, Lar=Planeta Vegeta\n"
          ]
        }
      ]
    },
    {
      "cell_type": "code",
      "source": [
        "class DarthVader:\n",
        "    def __init__(self, cor, característica, lar):\n",
        "        self.cor = cor\n",
        "        self.caracteristica = característica\n",
        "        self.lar = lar\n",
        "\n",
        "    def exibir_info(self):\n",
        "        return f\"DarthVader: cor={self.cor}, característica={self.caracteristica}, lar={self.lar}\"\n",
        "\n",
        "# exemplo de uso:\n",
        "DarthVader1 = DarthVader(\"preto\", \"armadura\", \"Destróier Estelar\")\n",
        "print(DarthVader1.exibir_info())"
      ],
      "metadata": {
        "colab": {
          "base_uri": "https://localhost:8080/"
        },
        "id": "NFdkMmGlbyqs",
        "outputId": "5eca71c5-922a-4fd3-fe2d-eeb25e8ddb22"
      },
      "execution_count": 9,
      "outputs": [
        {
          "output_type": "stream",
          "name": "stdout",
          "text": [
            "DarthVader: cor=preto, característica=armadura, lar=Destróier Estelar\n"
          ]
        }
      ]
    },
    {
      "cell_type": "code",
      "source": [
        "class Árvore:\n",
        " pass\n",
        "\n",
        "class Arvore:\n",
        "    # Atributos de classe\n",
        "    tronco = True\n",
        "    galhos = False\n",
        "\n",
        "    def __init__(self, fruto=\"laranja\"):\n",
        "        # Atributo de instância\n",
        "        self.fruto = fruto\n",
        "\n",
        "    def mostrar_caracteristicas(self):\n",
        "        return f\"Tronco: {self.tronco}, Galhos: {self.galhos}, Fruto: {self.fruto}\"\n",
        "\n",
        "# Exemplo de uso:\n",
        "minha_arvore = Arvore()\n",
        "print(minha_arvore.mostrar_caracteristicas())\n",
        "\n",
        "# Criando outra árvore com fruto diferente\n",
        "outra_arvore = Arvore(\"maçã\")\n",
        "print(outra_arvore.mostrar_caracteristicas())"
      ],
      "metadata": {
        "colab": {
          "base_uri": "https://localhost:8080/"
        },
        "id": "_AZY-gy2eQFN",
        "outputId": "e717e13e-543a-4aa8-a553-08513833eaa0"
      },
      "execution_count": 10,
      "outputs": [
        {
          "output_type": "stream",
          "name": "stdout",
          "text": [
            "Tronco: True, Galhos: False, Fruto: laranja\n",
            "Tronco: True, Galhos: False, Fruto: maçã\n"
          ]
        }
      ]
    },
    {
      "cell_type": "code",
      "source": [
        "\n",
        "class Cachorro:\n",
        "    def __init__(self, nome=\"Abóbora\", raca=\"Vira-lata\", idade=2, cor=\"Caramelo\"):\n",
        "        self.nome = nome\n",
        "        self.raca = raca\n",
        "        self.idade = idade\n",
        "        self.cor = cor\n",
        "        self.feliz = True\n",
        "\n",
        "    def latir(self):\n",
        "        return f\"{self.nome} diz: Au Au!\"\n",
        "\n",
        "    def comer(self, comida):\n",
        "        return f\"{self.nome} está comendo {comida}.\"\n",
        "\n",
        "    def dormir(self):\n",
        "        self.feliz = True\n",
        "        return f\"{self.nome} foi dormir. Zzzzz...\"\n",
        "\n",
        "    def __str__(self):\n",
        "        return f\"{self.nome} é um {self.raca} {self.cor} de {self.idade} anos.\"\n",
        "\n",
        "# Criando o cachorro chamado Abóbora\n",
        "meu_cachorro = Cachorro(nome=\"Abóbora\")\n",
        "\n",
        "# Usando os métodos\n",
        "print(meu_cachorro)\n",
        "print(meu_cachorro.latir())\n",
        "print(meu_cachorro.comer(\"ração\"))\n",
        "print(meu_cachorro.dormir())"
      ],
      "metadata": {
        "colab": {
          "base_uri": "https://localhost:8080/"
        },
        "id": "gI3JpJJngoU6",
        "outputId": "544e7c6c-0cd4-4109-a52a-05fda8f38472"
      },
      "execution_count": 18,
      "outputs": [
        {
          "output_type": "stream",
          "name": "stdout",
          "text": [
            "Abóbora é um Vira-lata Caramelo de 2 anos.\n",
            "Abóbora diz: Au Au!\n",
            "Abóbora está comendo ração.\n",
            "Abóbora foi dormir. Zzzzz...\n"
          ]
        }
      ]
    },
    {
      "cell_type": "code",
      "source": [
        "\n",
        "class Filme:\n",
        "    def __init__(self, titulo, diretor, ano):\n",
        "        self.titulo = titulo\n",
        "        self.diretor = diretor\n",
        "        self.ano = ano\n",
        "\n",
        "    def descricao(self):\n",
        "        return f\"{self.titulo} ({self.ano}), dirigido por {self.diretor}\"\n",
        "\n",
        "    def __str__(self):\n",
        "        return self.descricao()\n",
        "\n",
        "# Criando os objetos (instâncias) da classe Filme\n",
        "titanic = Filme(\"Titanic\", \"James Cameron\", 1997)\n",
        "star_wars = Filme(\"Star Wars\", \"George Lucas\", 1977)\n",
        "clube_da_luta = Filme(\"Clube de Luta\", \"David Fincher\", 1999)\n",
        "\n",
        "# Exibindo os filmes\n",
        "print(titanic.descricao())\n",
        "print(star_wars.descricao())\n",
        "print(clube_da_luta.descricao())\n",
        "\n",
        "# Também podemos armazená-los em uma lista\n",
        "catalogo = [titanic, star_wars, clube_da_luta]\n",
        "\n",
        "print(\"\\nCatálogo de Filmes:\")\n",
        "for filme in catalogo:\n",
        "    print(f\"- {filme}\")"
      ],
      "metadata": {
        "colab": {
          "base_uri": "https://localhost:8080/"
        },
        "id": "rD3jnvYtiXUy",
        "outputId": "bc740ec1-d0b4-4a65-c539-c21bbfa2b55d"
      },
      "execution_count": 19,
      "outputs": [
        {
          "output_type": "stream",
          "name": "stdout",
          "text": [
            "Titanic (1997), dirigido por James Cameron\n",
            "Star Wars (1977), dirigido por George Lucas\n",
            "Clube de Luta (1999), dirigido por David Fincher\n",
            "\n",
            "Catálogo de Filmes:\n",
            "- Titanic (1997), dirigido por James Cameron\n",
            "- Star Wars (1977), dirigido por George Lucas\n",
            "- Clube de Luta (1999), dirigido por David Fincher\n"
          ]
        }
      ]
    },
    {
      "cell_type": "code",
      "source": [
        "\n",
        "class Circulo:\n",
        "    # Atributo de classe (acessível diretamente pela classe)\n",
        "    pi = 3.14159\n",
        "\n",
        "    def __init__(self, raio):\n",
        "        # Atributo de instância\n",
        "        self.raio = raio\n",
        "\n",
        "    def calcular_area(self):\n",
        "        # Fórmula da área: A = π * r²\n",
        "        return self.pi * (self.raio ** 2)\n",
        "\n",
        "    def __str__(self):\n",
        "        return f\"Círculo com raio {self.raio} e área {self.calcular_area():.2f}\"\n",
        "\n",
        "# Exemplo de uso:\n",
        "# Acessando o atributo de classe diretamente pela classe\n",
        "print(f\"Valor de pi: {Circulo.pi}\")\n",
        "\n",
        "# Criando objetos (instâncias) da classe Circulo\n",
        "circulo1 = Circulo(5)\n",
        "circulo2 = Circulo(7.5)\n",
        "circulo3 = Circulo(10)\n",
        "\n",
        "# Calculando e exibindo as áreas\n",
        "print(f\"Área do círculo 1: {circulo1.calcular_area():.2f}\")\n",
        "print(f\"Área do círculo 2: {circulo2.calcular_area():.2f}\")\n",
        "print(f\"Área do círculo 3: {circulo3.calcular_area():.2f}\")\n",
        "\n",
        "# Usando o método __str__\n",
        "print(circulo1)\n",
        "print(circulo2)\n",
        "print(circulo3)"
      ],
      "metadata": {
        "colab": {
          "base_uri": "https://localhost:8080/"
        },
        "id": "7klb4UR9jNU0",
        "outputId": "1322cf60-5752-4723-bd5f-c2ea327ba498"
      },
      "execution_count": 20,
      "outputs": [
        {
          "output_type": "stream",
          "name": "stdout",
          "text": [
            "Valor de pi: 3.14159\n",
            "Área do círculo 1: 78.54\n",
            "Área do círculo 2: 176.71\n",
            "Área do círculo 3: 314.16\n",
            "Círculo com raio 5 e área 78.54\n",
            "Círculo com raio 7.5 e área 176.71\n",
            "Círculo com raio 10 e área 314.16\n"
          ]
        }
      ]
    },
    {
      "cell_type": "code",
      "source": [],
      "metadata": {
        "id": "KgXObkg-nql1"
      },
      "execution_count": null,
      "outputs": []
    }
  ]
}