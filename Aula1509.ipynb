{
  "nbformat": 4,
  "nbformat_minor": 0,
  "metadata": {
    "colab": {
      "provenance": [],
      "authorship_tag": "ABX9TyOzKFildpH+5LeM5jEffZcu",
      "include_colab_link": true
    },
    "kernelspec": {
      "name": "python3",
      "display_name": "Python 3"
    },
    "language_info": {
      "name": "python"
    }
  },
  "cells": [
    {
      "cell_type": "markdown",
      "metadata": {
        "id": "view-in-github",
        "colab_type": "text"
      },
      "source": [
        "<a href=\"https://colab.research.google.com/github/prquerque/Rodrigo-Albuquerque/blob/main/Aula1509.ipynb\" target=\"_parent\"><img src=\"https://colab.research.google.com/assets/colab-badge.svg\" alt=\"Open In Colab\"/></a>"
      ]
    },
    {
      "cell_type": "code",
      "execution_count": 4,
      "metadata": {
        "colab": {
          "base_uri": "https://localhost:8080/",
          "height": 141
        },
        "id": "n3gMbevyZLCe",
        "outputId": "00faec2f-7fbc-4cb4-fb10-bda96847a8f6"
      },
      "outputs": [
        {
          "output_type": "error",
          "ename": "SyntaxError",
          "evalue": "invalid syntax (ipython-input-682089971.py, line 9)",
          "traceback": [
            "\u001b[0;36m  File \u001b[0;32m\"/tmp/ipython-input-682089971.py\"\u001b[0;36m, line \u001b[0;32m9\u001b[0m\n\u001b[0;31m    git config --config user.name \"prquerque\"\u001b[0m\n\u001b[0m        ^\u001b[0m\n\u001b[0;31mSyntaxError\u001b[0m\u001b[0;31m:\u001b[0m invalid syntax\n"
          ]
        }
      ],
      "source": [
        "class curupira:\n",
        "    obter_alimento_sozinho = True\n",
        "    viva_na_natureza = True\n",
        "    viva_com_humanos = False\n",
        "    pass\n",
        "\n",
        "# lembrete: nomes de classes em PEP8 usam estilo **CapWords** (PascalCase) e **não** utilizam sublinhado\n",
        "\n",
        "git config --config user.name \"prquerque\"\n",
        "git config --config user.email \"prquerque@yahoo.com.br\""
      ]
    },
    {
      "cell_type": "code",
      "metadata": {
        "id": "9b60a146"
      },
      "source": [
        "class curupira:\n",
        "    obter_alimento_sozinho = True\n",
        "    viva_na_natureza = True\n",
        "    viva_com_humanos = False\n",
        "    pass\n",
        "\n",
        "# lembrete: nomes de classes em PEP8 usam estilo **CapWords** (PascalCase) e **não** utilizam sublinhado"
      ],
      "execution_count": 5,
      "outputs": []
    },
    {
      "cell_type": "code",
      "metadata": {
        "id": "1246802c"
      },
      "source": [
        "!git config --global user.name \"prquerque\"\n",
        "!git config --global user.email \"prquerque@yahoo.com.br\""
      ],
      "execution_count": 6,
      "outputs": []
    },
    {
      "cell_type": "code",
      "source": [],
      "metadata": {
        "id": "rFJmSkIaam3o"
      },
      "execution_count": null,
      "outputs": []
    }
  ]
}